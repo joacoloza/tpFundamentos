{
 "cells": [
  {
   "cell_type": "code",
   "execution_count": 1,
   "metadata": {},
   "outputs": [
    {
     "name": "stderr",
     "output_type": "stream",
     "text": [
      "d:\\Usuario\\Desktop\\tpFundamentos\\venv\\lib\\site-packages\\tqdm\\auto.py:21: TqdmWarning: IProgress not found. Please update jupyter and ipywidgets. See https://ipywidgets.readthedocs.io/en/stable/user_install.html\n",
      "  from .autonotebook import tqdm as notebook_tqdm\n"
     ]
    },
    {
     "name": "stdout",
     "output_type": "stream",
     "text": [
      "lal\n"
     ]
    }
   ],
   "source": [
    "from wget import download\n",
    "import pandas as pd\n",
    "from os import path \n",
    "\n",
    "\n",
    "\n",
    "if not path.exists(\"Calidad_de_agua_2021.csv\"):\n",
    "    download('https://drive.google.com/file/d/1y2TEMS_fhkc0g4kDVNXnhMPTQu0ObFTP/view?usp=sharing')\n",
    "else: \n",
    "    print('descargado already')\n"
   ]
  },
  {
   "cell_type": "code",
   "execution_count": 2,
   "metadata": {},
   "outputs": [
    {
     "data": {
      "text/html": [
       "<div>\n",
       "<style scoped>\n",
       "    .dataframe tbody tr th:only-of-type {\n",
       "        vertical-align: middle;\n",
       "    }\n",
       "\n",
       "    .dataframe tbody tr th {\n",
       "        vertical-align: top;\n",
       "    }\n",
       "\n",
       "    .dataframe thead th {\n",
       "        text-align: right;\n",
       "    }\n",
       "</style>\n",
       "<table border=\"1\" class=\"dataframe\">\n",
       "  <thead>\n",
       "    <tr style=\"text-align: right;\">\n",
       "      <th></th>\n",
       "      <th>orden;sitios;codigo;fecha;año;campaña;tem_agua;tem_aire;od;ph;olores;color;espumas;mat_susp;colif_fecales_ufc_100ml;escher_coli_ufc_100ml;enteroc_ufc_100ml;nitrato_mg_l;nh4_mg_l;p_total_l_mg_l;fosf_ortofos_mg_l;dbo_mg_l;dqo_mg_l;turbiedad_ntu;hidr_deriv_petr_ug_l;cr_total_mg_l;cd_total_mg_l;clorofila_a_ug_l;microcistina_ug_l;ica;calidad_de_agua</th>\n",
       "    </tr>\n",
       "  </thead>\n",
       "  <tbody>\n",
       "    <tr>\n",
       "      <th>0</th>\n",
       "      <td>1;Canal Villanueva y Río Luján;TI001;24/2/2021...</td>\n",
       "    </tr>\n",
       "    <tr>\n",
       "      <th>1</th>\n",
       "      <td>1;Canal Villanueva y Río Luján;TI001;19/5/2021...</td>\n",
       "    </tr>\n",
       "    <tr>\n",
       "      <th>2</th>\n",
       "      <td>1;Canal Villanueva y Río Luján;TI001;25/8/2021...</td>\n",
       "    </tr>\n",
       "    <tr>\n",
       "      <th>3</th>\n",
       "      <td>1;Canal Villanueva y Río Luján;TI001;27/10/202...</td>\n",
       "    </tr>\n",
       "    <tr>\n",
       "      <th>4</th>\n",
       "      <td>2;Río Lujan y Arroyo Caraguatá;TI006;24/2/2021...</td>\n",
       "    </tr>\n",
       "  </tbody>\n",
       "</table>\n",
       "</div>"
      ],
      "text/plain": [
       "  orden;sitios;codigo;fecha;año;campaña;tem_agua;tem_aire;od;ph;olores;color;espumas;mat_susp;colif_fecales_ufc_100ml;escher_coli_ufc_100ml;enteroc_ufc_100ml;nitrato_mg_l;nh4_mg_l;p_total_l_mg_l;fosf_ortofos_mg_l;dbo_mg_l;dqo_mg_l;turbiedad_ntu;hidr_deriv_petr_ug_l;cr_total_mg_l;cd_total_mg_l;clorofila_a_ug_l;microcistina_ug_l;ica;calidad_de_agua\n",
       "0  1;Canal Villanueva y Río Luján;TI001;24/2/2021...                                                                                                                                                                                                                                                                                                        \n",
       "1  1;Canal Villanueva y Río Luján;TI001;19/5/2021...                                                                                                                                                                                                                                                                                                        \n",
       "2  1;Canal Villanueva y Río Luján;TI001;25/8/2021...                                                                                                                                                                                                                                                                                                        \n",
       "3  1;Canal Villanueva y Río Luján;TI001;27/10/202...                                                                                                                                                                                                                                                                                                        \n",
       "4  2;Río Lujan y Arroyo Caraguatá;TI006;24/2/2021...                                                                                                                                                                                                                                                                                                        "
      ]
     },
     "execution_count": 2,
     "metadata": {},
     "output_type": "execute_result"
    }
   ],
   "source": [
    "df = pd.read_csv(\"Calidad_de_agua_2021.csv\")\n",
    "df.head()"
   ]
  }
 ],
 "metadata": {
  "kernelspec": {
   "display_name": "venv",
   "language": "python",
   "name": "python3"
  },
  "language_info": {
   "codemirror_mode": {
    "name": "ipython",
    "version": 3
   },
   "file_extension": ".py",
   "mimetype": "text/x-python",
   "name": "python",
   "nbconvert_exporter": "python",
   "pygments_lexer": "ipython3",
   "version": "3.9.4"
  }
 },
 "nbformat": 4,
 "nbformat_minor": 2
}
